{
 "cells": [
  {
   "cell_type": "markdown",
   "metadata": {},
   "source": [
    "In this notebook we will be using the Logistic Regression Model with different ways of splitting the training and testing data and save the best one"
   ]
  },
  {
   "cell_type": "code",
   "execution_count": null,
   "metadata": {},
   "outputs": [],
   "source": [
    "import pandas as pd\n",
    "import numpy as np\n",
    "import matplotlib.pyplot as plt\n",
    "import seaborn as sns\n",
    "from sklearn.model_selection import train_test_split, cross_val_score, GridSearchCV\n",
    "\n",
    "from sklearn.linear_model import LogisticRegression\n",
    "\n",
    "from sklearn.metrics import accuracy_score, confusion_matrix, classification_report"
   ]
  },
  {
   "cell_type": "code",
   "execution_count": 7,
   "metadata": {},
   "outputs": [
    {
     "name": "stdout",
     "output_type": "stream",
     "text": [
      "<class 'pandas.core.frame.DataFrame'>\n",
      "RangeIndex: 7043 entries, 0 to 7042\n",
      "Data columns (total 26 columns):\n",
      " #   Column                                 Non-Null Count  Dtype  \n",
      "---  ------                                 --------------  -----  \n",
      " 0   gender                                 7043 non-null   int64  \n",
      " 1   SeniorCitizen                          7043 non-null   int64  \n",
      " 2   Partner                                7043 non-null   int64  \n",
      " 3   Dependents                             7043 non-null   int64  \n",
      " 4   tenure                                 7043 non-null   float64\n",
      " 5   PhoneService                           7043 non-null   int64  \n",
      " 6   OnlineSecurity                         7043 non-null   int64  \n",
      " 7   DeviceProtection                       7043 non-null   int64  \n",
      " 8   TechSupport                            7043 non-null   int64  \n",
      " 9   StreamingTV                            7043 non-null   int64  \n",
      " 10  StreamingMovies                        7043 non-null   int64  \n",
      " 11  PaperlessBilling                       7043 non-null   int64  \n",
      " 12  MonthlyCharges                         7043 non-null   float64\n",
      " 13  TotalCharges                           7043 non-null   float64\n",
      " 14  Churn                                  7043 non-null   int64  \n",
      " 15  MultipleLines_No phone service         7043 non-null   bool   \n",
      " 16  MultipleLines_Yes                      7043 non-null   bool   \n",
      " 17  InternetService_Fiber optic            7043 non-null   bool   \n",
      " 18  InternetService_No                     7043 non-null   bool   \n",
      " 19  OnlineBackup_No internet service       7043 non-null   bool   \n",
      " 20  OnlineBackup_Yes                       7043 non-null   bool   \n",
      " 21  Contract_One year                      7043 non-null   bool   \n",
      " 22  Contract_Two year                      7043 non-null   bool   \n",
      " 23  PaymentMethod_Credit card (automatic)  7043 non-null   bool   \n",
      " 24  PaymentMethod_Electronic check         7043 non-null   bool   \n",
      " 25  PaymentMethod_Mailed check             7043 non-null   bool   \n",
      "dtypes: bool(11), float64(3), int64(12)\n",
      "memory usage: 901.1 KB\n",
      "None\n"
     ]
    }
   ],
   "source": [
    "df = pd.read_csv('../data/processed_data.csv')\n",
    "print(df.info())\n"
   ]
  },
  {
   "cell_type": "markdown",
   "metadata": {},
   "source": [
    "First of all lets manually split the training and testing data with a 70% to 30% split and see its performance rates"
   ]
  },
  {
   "cell_type": "code",
   "execution_count": 8,
   "metadata": {},
   "outputs": [],
   "source": [
    "X = df.drop('Churn',axis=1)\n",
    "y = df['Churn']\n",
    "\n",
    "X_train,X_test,y_train,y_test = train_test_split(X, y, test_size=0.3, random_state=42)"
   ]
  },
  {
   "cell_type": "code",
   "execution_count": 9,
   "metadata": {},
   "outputs": [
    {
     "name": "stdout",
     "output_type": "stream",
     "text": [
      "0.8116422148603881\n",
      "[[1388  151]\n",
      " [ 247  327]]\n",
      "              precision    recall  f1-score   support\n",
      "\n",
      "           0       0.85      0.90      0.87      1539\n",
      "           1       0.68      0.57      0.62       574\n",
      "\n",
      "    accuracy                           0.81      2113\n",
      "   macro avg       0.77      0.74      0.75      2113\n",
      "weighted avg       0.80      0.81      0.81      2113\n",
      "\n"
     ]
    }
   ],
   "source": [
    "\n",
    "log_reg = LogisticRegression()\n",
    "log_reg.fit(X_train,y_train)\n",
    "\n",
    "y_pred_log = log_reg.predict(X_test)\n",
    "\n",
    "print(accuracy_score(y_test,y_pred_log))\n",
    "print(confusion_matrix(y_test,y_pred_log))\n",
    "print(classification_report(y_test,y_pred_log))"
   ]
  },
  {
   "cell_type": "markdown",
   "metadata": {},
   "source": [
    "Now we will use a radnom split "
   ]
  },
  {
   "cell_type": "code",
   "execution_count": 10,
   "metadata": {},
   "outputs": [],
   "source": [
    "X = df.drop('Churn',axis=1)\n",
    "y = df['Churn']\n",
    "\n",
    "X_train_RS,X_test_RS,y_train_RS,y_test_RS = train_test_split(X, y, test_size=0.3,shuffle=True, random_state=42)"
   ]
  },
  {
   "cell_type": "code",
   "execution_count": 11,
   "metadata": {},
   "outputs": [
    {
     "name": "stdout",
     "output_type": "stream",
     "text": [
      "0.8116422148603881\n",
      "[[1388  151]\n",
      " [ 247  327]]\n",
      "              precision    recall  f1-score   support\n",
      "\n",
      "           0       0.85      0.90      0.87      1539\n",
      "           1       0.68      0.57      0.62       574\n",
      "\n",
      "    accuracy                           0.81      2113\n",
      "   macro avg       0.77      0.74      0.75      2113\n",
      "weighted avg       0.80      0.81      0.81      2113\n",
      "\n"
     ]
    }
   ],
   "source": [
    "log_reg_RS = LogisticRegression()\n",
    "log_reg_RS.fit(X_train_RS,y_train_RS)\n",
    "\n",
    "y_pred_log_RS = log_reg_RS.predict(X_test_RS)\n",
    "\n",
    "print(accuracy_score(y_test_RS,y_pred_log_RS))\n",
    "print(confusion_matrix(y_test_RS,y_pred_log_RS))\n",
    "print(classification_report(y_test_RS,y_pred_log_RS))"
   ]
  },
  {
   "cell_type": "markdown",
   "metadata": {},
   "source": [
    "Now we will use random split but with stratification"
   ]
  },
  {
   "cell_type": "code",
   "execution_count": 12,
   "metadata": {},
   "outputs": [],
   "source": [
    "X = df.drop('Churn',axis=1)\n",
    "y = df['Churn']\n",
    "\n",
    "X_train_RSS,X_test_RSS,y_train_RSS,y_test_RSS = train_test_split(X, y, test_size=0.3,shuffle=True,stratify=y, random_state=42)"
   ]
  },
  {
   "cell_type": "code",
   "execution_count": 13,
   "metadata": {},
   "outputs": [
    {
     "name": "stdout",
     "output_type": "stream",
     "text": [
      "0.8102224325603408\n",
      "[[1397  155]\n",
      " [ 246  315]]\n",
      "              precision    recall  f1-score   support\n",
      "\n",
      "           0       0.85      0.90      0.87      1552\n",
      "           1       0.67      0.56      0.61       561\n",
      "\n",
      "    accuracy                           0.81      2113\n",
      "   macro avg       0.76      0.73      0.74      2113\n",
      "weighted avg       0.80      0.81      0.80      2113\n",
      "\n"
     ]
    }
   ],
   "source": [
    "log_reg_RSS = LogisticRegression()\n",
    "log_reg_RSS.fit(X_train_RSS,y_train_RSS)\n",
    "\n",
    "y_pred_log_RSS = log_reg_RSS.predict(X_test_RSS)\n",
    "\n",
    "print(accuracy_score(y_test_RSS,y_pred_log_RSS))\n",
    "print(confusion_matrix(y_test_RSS,y_pred_log_RSS))\n",
    "print(classification_report(y_test_RSS,y_pred_log_RSS))"
   ]
  },
  {
   "cell_type": "markdown",
   "metadata": {},
   "source": [
    "And finally we will be using cross validation "
   ]
  },
  {
   "cell_type": "code",
   "execution_count": 17,
   "metadata": {},
   "outputs": [
    {
     "name": "stdout",
     "output_type": "stream",
     "text": [
      "\n",
      "Cross-Validation Results\n",
      "Cross-validation scores: [0.79858156 0.80992908 0.80425532 0.81818182 0.78125    0.79829545\n",
      " 0.8125     0.80965909 0.79971591 0.80681818]\n",
      "Mean cross-validation score: 0.8039186411992263\n"
     ]
    }
   ],
   "source": [
    "log_reg_cv = LogisticRegression()\n",
    "cv_scores = cross_val_score(log_reg_cv, X, y, cv=10, scoring='accuracy')\n",
    "print(\"\\nCross-Validation Results\")\n",
    "print(f\"Cross-validation scores: {cv_scores}\")\n",
    "print(f\"Mean cross-validation score: {cv_scores.mean()}\")"
   ]
  },
  {
   "cell_type": "code",
   "execution_count": 22,
   "metadata": {},
   "outputs": [
    {
     "name": "stderr",
     "output_type": "stream",
     "text": [
      "C:\\Users\\david\\AppData\\Roaming\\Python\\Python312\\site-packages\\sklearn\\linear_model\\_sag.py:348: ConvergenceWarning: The max_iter was reached which means the coef_ did not converge\n",
      "  warnings.warn(\n",
      "C:\\Users\\david\\AppData\\Roaming\\Python\\Python312\\site-packages\\sklearn\\linear_model\\_sag.py:348: ConvergenceWarning: The max_iter was reached which means the coef_ did not converge\n",
      "  warnings.warn(\n",
      "C:\\Users\\david\\AppData\\Roaming\\Python\\Python312\\site-packages\\sklearn\\linear_model\\_sag.py:348: ConvergenceWarning: The max_iter was reached which means the coef_ did not converge\n",
      "  warnings.warn(\n",
      "C:\\Users\\david\\AppData\\Roaming\\Python\\Python312\\site-packages\\sklearn\\linear_model\\_sag.py:348: ConvergenceWarning: The max_iter was reached which means the coef_ did not converge\n",
      "  warnings.warn(\n",
      "C:\\Users\\david\\AppData\\Roaming\\Python\\Python312\\site-packages\\sklearn\\linear_model\\_sag.py:348: ConvergenceWarning: The max_iter was reached which means the coef_ did not converge\n",
      "  warnings.warn(\n",
      "C:\\Users\\david\\AppData\\Roaming\\Python\\Python312\\site-packages\\sklearn\\linear_model\\_sag.py:348: ConvergenceWarning: The max_iter was reached which means the coef_ did not converge\n",
      "  warnings.warn(\n",
      "C:\\Users\\david\\AppData\\Roaming\\Python\\Python312\\site-packages\\sklearn\\linear_model\\_sag.py:348: ConvergenceWarning: The max_iter was reached which means the coef_ did not converge\n",
      "  warnings.warn(\n",
      "C:\\Users\\david\\AppData\\Roaming\\Python\\Python312\\site-packages\\sklearn\\linear_model\\_sag.py:348: ConvergenceWarning: The max_iter was reached which means the coef_ did not converge\n",
      "  warnings.warn(\n",
      "C:\\Users\\david\\AppData\\Roaming\\Python\\Python312\\site-packages\\sklearn\\linear_model\\_sag.py:348: ConvergenceWarning: The max_iter was reached which means the coef_ did not converge\n",
      "  warnings.warn(\n",
      "C:\\Users\\david\\AppData\\Roaming\\Python\\Python312\\site-packages\\sklearn\\linear_model\\_sag.py:348: ConvergenceWarning: The max_iter was reached which means the coef_ did not converge\n",
      "  warnings.warn(\n",
      "C:\\Users\\david\\AppData\\Roaming\\Python\\Python312\\site-packages\\sklearn\\model_selection\\_validation.py:528: FitFailedWarning: \n",
      "100 fits failed out of a total of 200.\n",
      "The score on these train-test partitions for these parameters will be set to nan.\n",
      "If these failures are not expected, you can try to debug them by setting error_score='raise'.\n",
      "\n",
      "Below are more details about the failures:\n",
      "--------------------------------------------------------------------------------\n",
      "25 fits failed with the following error:\n",
      "Traceback (most recent call last):\n",
      "  File \"C:\\Users\\david\\AppData\\Roaming\\Python\\Python312\\site-packages\\sklearn\\model_selection\\_validation.py\", line 866, in _fit_and_score\n",
      "    estimator.fit(X_train, y_train, **fit_params)\n",
      "  File \"C:\\Users\\david\\AppData\\Roaming\\Python\\Python312\\site-packages\\sklearn\\base.py\", line 1389, in wrapper\n",
      "    return fit_method(estimator, *args, **kwargs)\n",
      "           ^^^^^^^^^^^^^^^^^^^^^^^^^^^^^^^^^^^^^^\n",
      "  File \"C:\\Users\\david\\AppData\\Roaming\\Python\\Python312\\site-packages\\sklearn\\linear_model\\_logistic.py\", line 1193, in fit\n",
      "    solver = _check_solver(self.solver, self.penalty, self.dual)\n",
      "             ^^^^^^^^^^^^^^^^^^^^^^^^^^^^^^^^^^^^^^^^^^^^^^^^^^^\n",
      "  File \"C:\\Users\\david\\AppData\\Roaming\\Python\\Python312\\site-packages\\sklearn\\linear_model\\_logistic.py\", line 71, in _check_solver\n",
      "    raise ValueError(\n",
      "ValueError: Only 'saga' solver supports elasticnet penalty, got solver=liblinear.\n",
      "\n",
      "--------------------------------------------------------------------------------\n",
      "25 fits failed with the following error:\n",
      "Traceback (most recent call last):\n",
      "  File \"C:\\Users\\david\\AppData\\Roaming\\Python\\Python312\\site-packages\\sklearn\\model_selection\\_validation.py\", line 866, in _fit_and_score\n",
      "    estimator.fit(X_train, y_train, **fit_params)\n",
      "  File \"C:\\Users\\david\\AppData\\Roaming\\Python\\Python312\\site-packages\\sklearn\\base.py\", line 1389, in wrapper\n",
      "    return fit_method(estimator, *args, **kwargs)\n",
      "           ^^^^^^^^^^^^^^^^^^^^^^^^^^^^^^^^^^^^^^\n",
      "  File \"C:\\Users\\david\\AppData\\Roaming\\Python\\Python312\\site-packages\\sklearn\\linear_model\\_logistic.py\", line 1203, in fit\n",
      "    raise ValueError(\"l1_ratio must be specified when penalty is elasticnet.\")\n",
      "ValueError: l1_ratio must be specified when penalty is elasticnet.\n",
      "\n",
      "--------------------------------------------------------------------------------\n",
      "50 fits failed with the following error:\n",
      "Traceback (most recent call last):\n",
      "  File \"C:\\Users\\david\\AppData\\Roaming\\Python\\Python312\\site-packages\\sklearn\\model_selection\\_validation.py\", line 866, in _fit_and_score\n",
      "    estimator.fit(X_train, y_train, **fit_params)\n",
      "  File \"C:\\Users\\david\\AppData\\Roaming\\Python\\Python312\\site-packages\\sklearn\\base.py\", line 1382, in wrapper\n",
      "    estimator._validate_params()\n",
      "  File \"C:\\Users\\david\\AppData\\Roaming\\Python\\Python312\\site-packages\\sklearn\\base.py\", line 436, in _validate_params\n",
      "    validate_parameter_constraints(\n",
      "  File \"C:\\Users\\david\\AppData\\Roaming\\Python\\Python312\\site-packages\\sklearn\\utils\\_param_validation.py\", line 98, in validate_parameter_constraints\n",
      "    raise InvalidParameterError(\n",
      "sklearn.utils._param_validation.InvalidParameterError: The 'penalty' parameter of LogisticRegression must be a str among {'l1', 'l2', 'elasticnet'} or None. Got 'none' instead.\n",
      "\n",
      "  warnings.warn(some_fits_failed_message, FitFailedWarning)\n",
      "C:\\Users\\david\\AppData\\Roaming\\Python\\Python312\\site-packages\\sklearn\\model_selection\\_search.py:1108: UserWarning: One or more of the test scores are non-finite: [0.78356998 0.78965517 0.79756592 0.80060852        nan        nan\n",
      "        nan        nan 0.7989858  0.79959432 0.80243408 0.80243408\n",
      "        nan        nan        nan        nan 0.80182556 0.80263692\n",
      " 0.80283976 0.80263692        nan        nan        nan        nan\n",
      " 0.8030426  0.80365112 0.80243408 0.80365112        nan        nan\n",
      "        nan        nan 0.80283976 0.80121704 0.80141988 0.80141988\n",
      "        nan        nan        nan        nan]\n",
      "  warnings.warn(\n"
     ]
    },
    {
     "name": "stdout",
     "output_type": "stream",
     "text": [
      "Best Parameters: {'C': 10, 'penalty': 'l1', 'solver': 'saga'}\n",
      "Best Cross-validation Score: 0.8036511156186613\n",
      "Best Model Performance on Test Data\n",
      "0.812588736393753\n",
      "[[1388  151]\n",
      " [ 245  329]]\n",
      "              precision    recall  f1-score   support\n",
      "\n",
      "           0       0.85      0.90      0.88      1539\n",
      "           1       0.69      0.57      0.62       574\n",
      "\n",
      "    accuracy                           0.81      2113\n",
      "   macro avg       0.77      0.74      0.75      2113\n",
      "weighted avg       0.81      0.81      0.81      2113\n",
      "\n"
     ]
    }
   ],
   "source": [
    "# Hyperparameter tuning with GridSearchCV\n",
    "param_grid = {\n",
    "    'penalty': ['l1', 'l2', 'elasticnet', 'none'],\n",
    "    'C': [0.01, 0.1, 1, 10, 100],\n",
    "    'solver': ['liblinear', 'saga']\n",
    "}\n",
    "\n",
    "grid_search = GridSearchCV(LogisticRegression(max_iter=1000), param_grid, cv=5, scoring='accuracy')\n",
    "grid_search.fit(X_train, y_train)\n",
    "\n",
    "# Best parameters and model\n",
    "print(f\"Best Parameters: {grid_search.best_params_}\")\n",
    "print(f\"Best Cross-validation Score: {grid_search.best_score_}\")\n",
    "best_log_reg_model = grid_search.best_estimator_\n",
    "\n",
    "# Evaluate the best model on the test set\n",
    "y_pred_best = best_log_reg_model.predict(X_test)\n",
    "print(\"Best Model Performance on Test Data\")\n",
    "print(accuracy_score(y_test, y_pred_best))\n",
    "print(confusion_matrix(y_test, y_pred_best))\n",
    "print(classification_report(y_test, y_pred_best))"
   ]
  },
  {
   "cell_type": "markdown",
   "metadata": {},
   "source": [
    "Now lets do a comparisson between all the models we trained"
   ]
  },
  {
   "cell_type": "code",
   "execution_count": 23,
   "metadata": {},
   "outputs": [
    {
     "name": "stdout",
     "output_type": "stream",
     "text": [
      "\n",
      "Model Comparison Results\n",
      "                     Model  Accuracy  Precision    Recall  F1 Score  \\\n",
      "0             Manual Split  0.811642   0.766515  0.735785  0.748140   \n",
      "1             Random Split  0.811642   0.766515  0.735785  0.748140   \n",
      "2  Stratified Random Split  0.810222   0.760243  0.730813  0.742774   \n",
      "3              Tuned Model  0.812589   0.767693  0.737528  0.749723   \n",
      "\n",
      "            Confusion Matrix  \n",
      "0  [[1388, 151], [247, 327]]  \n",
      "1  [[1388, 151], [247, 327]]  \n",
      "2  [[1397, 155], [246, 315]]  \n",
      "3  [[1388, 151], [245, 329]]  \n"
     ]
    }
   ],
   "source": [
    "def evaluate_model(y_true, y_pred, model_name):\n",
    "    accuracy = accuracy_score(y_true, y_pred)\n",
    "    confusion = confusion_matrix(y_true, y_pred)\n",
    "    report = classification_report(y_true, y_pred, output_dict=True)\n",
    "    return {\n",
    "        'Model': model_name,\n",
    "        'Accuracy': accuracy,\n",
    "        'Precision': report['macro avg']['precision'],\n",
    "        'Recall': report['macro avg']['recall'],\n",
    "        'F1 Score': report['macro avg']['f1-score'],\n",
    "        'Confusion Matrix': confusion\n",
    "    }\n",
    "\n",
    "# Evaluate all models\n",
    "manual_split_results = evaluate_model(y_test, y_pred_log, 'Manual Split')\n",
    "random_split_results = evaluate_model(y_test_RS, y_pred_log_RS, 'Random Split')\n",
    "stratified_split_results = evaluate_model(y_test_RSS, y_pred_log_RSS, 'Stratified Random Split')\n",
    "tuned_model_results = evaluate_model(y_test, y_pred_best, 'Tuned Model')\n",
    "\n",
    "# Collect all results\n",
    "comparison_results = [manual_split_results, random_split_results, stratified_split_results, tuned_model_results]\n",
    "\n",
    "# Create a DataFrame for comparison\n",
    "comparison_df = pd.DataFrame(comparison_results)\n",
    "print(\"\\nModel Comparison Results\")\n",
    "print(comparison_df)"
   ]
  },
  {
   "cell_type": "code",
   "execution_count": 24,
   "metadata": {},
   "outputs": [
    {
     "data": {
      "image/png": "[encoded data removed]",
      "text/plain": [
       "<Figure size 1000x600 with 1 Axes>"
      ]
     },
     "metadata": {},
     "output_type": "display_data"
    }
   ],
   "source": [
    "comparison_df.set_index('Model', inplace=True)\n",
    "metrics = ['Accuracy', 'Precision', 'Recall', 'F1 Score']\n",
    "comparison_df[metrics].plot(kind='bar', figsize=(10, 6))\n",
    "plt.title('Model Comparison')\n",
    "plt.ylabel('Score')\n",
    "plt.xlabel('Model')\n",
    "plt.xticks(rotation=45)\n",
    "plt.tight_layout()\n",
    "plt.show()"
   ]
  },
  {
   "cell_type": "markdown",
   "metadata": {},
   "source": [
    "From the result we see that the hyperparammeter trained model that uses cross validation seems to be the best, so for now we will save it"
   ]
  },
  {
   "cell_type": "code",
   "execution_count": 25,
   "metadata": {},
   "outputs": [
    {
     "data": {
      "text/plain": [
       "['best_log_reg_model.pkl']"
      ]
     },
     "execution_count": 25,
     "metadata": {},
     "output_type": "execute_result"
    }
   ],
   "source": [
    "import joblib\n",
    "joblib.dump(best_log_reg_model, 'best_log_reg_model.pkl')"
   ]
  }
 ],
 "metadata": {
  "kernelspec": {
   "display_name": "base",
   "language": "python",
   "name": "python3"
  },
  "language_info": {
   "codemirror_mode": {
    "name": "ipython",
    "version": 3
   },
   "file_extension": ".py",
   "mimetype": "text/x-python",
   "name": "python",
   "nbconvert_exporter": "python",
   "pygments_lexer": "ipython3",
   "version": "3.12.7"
  }
 },
 "nbformat": 4,
 "nbformat_minor": 2
}
