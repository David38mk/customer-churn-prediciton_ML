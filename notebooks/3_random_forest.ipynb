{
 "cells": [
  {
   "cell_type": "code",
   "execution_count": 41,
   "metadata": {},
   "outputs": [],
   "source": [
    "import pandas as pd\n",
    "import numpy as np\n",
    "import matplotlib.pyplot as plt\n",
    "import seaborn as sns\n",
    "from sklearn.model_selection import train_test_split,cross_val_score ,GridSearchCV\n",
    "from sklearn.preprocessing import StandardScaler\n",
    "\n",
    "from sklearn.ensemble import RandomForestClassifier\n",
    "from sklearn.metrics import accuracy_score, confusion_matrix, classification_report"
   ]
  },
  {
   "cell_type": "code",
   "execution_count": 42,
   "metadata": {},
   "outputs": [
    {
     "name": "stdout",
     "output_type": "stream",
     "text": [
      "<class 'pandas.core.frame.DataFrame'>\n",
      "RangeIndex: 7043 entries, 0 to 7042\n",
      "Data columns (total 26 columns):\n",
      " #   Column                                 Non-Null Count  Dtype  \n",
      "---  ------                                 --------------  -----  \n",
      " 0   gender                                 7043 non-null   int64  \n",
      " 1   SeniorCitizen                          7043 non-null   int64  \n",
      " 2   Partner                                7043 non-null   int64  \n",
      " 3   Dependents                             7043 non-null   int64  \n",
      " 4   tenure                                 7043 non-null   float64\n",
      " 5   PhoneService                           7043 non-null   int64  \n",
      " 6   OnlineSecurity                         7043 non-null   int64  \n",
      " 7   DeviceProtection                       7043 non-null   int64  \n",
      " 8   TechSupport                            7043 non-null   int64  \n",
      " 9   StreamingTV                            7043 non-null   int64  \n",
      " 10  StreamingMovies                        7043 non-null   int64  \n",
      " 11  PaperlessBilling                       7043 non-null   int64  \n",
      " 12  MonthlyCharges                         7043 non-null   float64\n",
      " 13  TotalCharges                           7043 non-null   float64\n",
      " 14  Churn                                  7043 non-null   int64  \n",
      " 15  MultipleLines_No phone service         7043 non-null   bool   \n",
      " 16  MultipleLines_Yes                      7043 non-null   bool   \n",
      " 17  InternetService_Fiber optic            7043 non-null   bool   \n",
      " 18  InternetService_No                     7043 non-null   bool   \n",
      " 19  OnlineBackup_No internet service       7043 non-null   bool   \n",
      " 20  OnlineBackup_Yes                       7043 non-null   bool   \n",
      " 21  Contract_One year                      7043 non-null   bool   \n",
      " 22  Contract_Two year                      7043 non-null   bool   \n",
      " 23  PaymentMethod_Credit card (automatic)  7043 non-null   bool   \n",
      " 24  PaymentMethod_Electronic check         7043 non-null   bool   \n",
      " 25  PaymentMethod_Mailed check             7043 non-null   bool   \n",
      "dtypes: bool(11), float64(3), int64(12)\n",
      "memory usage: 901.1 KB\n",
      "None\n"
     ]
    }
   ],
   "source": [
    "df = pd.read_csv('../data/processed_data.csv')\n",
    "print(df.info())\n"
   ]
  },
  {
   "cell_type": "markdown",
   "metadata": {},
   "source": [
    "Firs we will do a manual split on the dtaset into a 70 to 30 ratio and see the performing rates of random forest"
   ]
  },
  {
   "cell_type": "code",
   "execution_count": 43,
   "metadata": {},
   "outputs": [],
   "source": [
    "X = df.drop('Churn',axis=1)\n",
    "y = df['Churn']\n",
    "\n",
    "#We will be spliting the data into training and test subdatasets\n",
    "X_train,X_test,y_train,y_test = train_test_split(X, y, test_size=0.3, random_state=42)"
   ]
  },
  {
   "cell_type": "code",
   "execution_count": 44,
   "metadata": {},
   "outputs": [
    {
     "name": "stdout",
     "output_type": "stream",
     "text": [
      "0.7936583057264552\n",
      "[[1409  130]\n",
      " [ 306  268]]\n",
      "              precision    recall  f1-score   support\n",
      "\n",
      "           0       0.82      0.92      0.87      1539\n",
      "           1       0.67      0.47      0.55       574\n",
      "\n",
      "    accuracy                           0.79      2113\n",
      "   macro avg       0.75      0.69      0.71      2113\n",
      "weighted avg       0.78      0.79      0.78      2113\n",
      "\n"
     ]
    }
   ],
   "source": [
    "rf_split = RandomForestClassifier()\n",
    "rf_split.fit(X_train,y_train)\n",
    "\n",
    "#Rewieving Scores from Random tree\n",
    "y_pred_rf_split = rf_split.predict(X_test)\n",
    "print(accuracy_score(y_test,y_pred_rf_split))\n",
    "print(confusion_matrix(y_test,y_pred_rf_split))\n",
    "print(classification_report(y_test,y_pred_rf_split))"
   ]
  },
  {
   "cell_type": "markdown",
   "metadata": {},
   "source": [
    "Now we will use random tree with a randomly splitted data still using a 70:30 ratio"
   ]
  },
  {
   "cell_type": "code",
   "execution_count": 45,
   "metadata": {},
   "outputs": [],
   "source": [
    "X = df.drop('Churn',axis=1)\n",
    "y = df['Churn']\n",
    "\n",
    "#We will be spliting the data into training and test subdatasets\n",
    "X_train_RS,X_test_RS,y_train_RS,y_test_RS = train_test_split(X, y, test_size=0.3, random_state=42, shuffle=True)"
   ]
  },
  {
   "cell_type": "code",
   "execution_count": 46,
   "metadata": {},
   "outputs": [
    {
     "name": "stdout",
     "output_type": "stream",
     "text": [
      "0.7908187411263606\n",
      "[[1413  126]\n",
      " [ 316  258]]\n",
      "              precision    recall  f1-score   support\n",
      "\n",
      "           0       0.82      0.92      0.86      1539\n",
      "           1       0.67      0.45      0.54       574\n",
      "\n",
      "    accuracy                           0.79      2113\n",
      "   macro avg       0.74      0.68      0.70      2113\n",
      "weighted avg       0.78      0.79      0.78      2113\n",
      "\n"
     ]
    }
   ],
   "source": [
    "rf_Rsplit = RandomForestClassifier()\n",
    "rf_Rsplit.fit(X_train_RS,y_train_RS)\n",
    "\n",
    "#Rewieving Scores from Random tree\n",
    "y_pred_rf_Rsplit = rf_Rsplit.predict(X_test_RS)\n",
    "print(accuracy_score(y_test_RS,y_pred_rf_Rsplit))\n",
    "print(confusion_matrix(y_test_RS,y_pred_rf_Rsplit))\n",
    "print(classification_report(y_test_RS,y_pred_rf_Rsplit))"
   ]
  },
  {
   "cell_type": "markdown",
   "metadata": {},
   "source": [
    "And here we will use random split but with stratification"
   ]
  },
  {
   "cell_type": "code",
   "execution_count": 47,
   "metadata": {},
   "outputs": [],
   "source": [
    "X = df.drop('Churn',axis=1)\n",
    "y = df['Churn']\n",
    "\n",
    "X_train_RSS,X_test_RSS,y_train_RSS,y_test_RSS = train_test_split(X, y, test_size=0.3, random_state=42, shuffle=True, stratify=y)"
   ]
  },
  {
   "cell_type": "code",
   "execution_count": 48,
   "metadata": {},
   "outputs": [
    {
     "name": "stdout",
     "output_type": "stream",
     "text": [
      "0.7827733080927591\n",
      "[[1389  163]\n",
      " [ 296  265]]\n",
      "              precision    recall  f1-score   support\n",
      "\n",
      "           0       0.82      0.89      0.86      1552\n",
      "           1       0.62      0.47      0.54       561\n",
      "\n",
      "    accuracy                           0.78      2113\n",
      "   macro avg       0.72      0.68      0.70      2113\n",
      "weighted avg       0.77      0.78      0.77      2113\n",
      "\n"
     ]
    }
   ],
   "source": [
    "rf_RsplitS = RandomForestClassifier()\n",
    "rf_RsplitS.fit(X_train_RSS,y_train_RSS)\n",
    "\n",
    "#Rewieving Scores from Random tree\n",
    "y_pred_rf_RsplitS = rf_RsplitS.predict(X_test_RSS)\n",
    "print(accuracy_score(y_test_RSS,y_pred_rf_RsplitS))\n",
    "print(confusion_matrix(y_test_RSS,y_pred_rf_RsplitS))\n",
    "print(classification_report(y_test_RSS,y_pred_rf_RsplitS))"
   ]
  },
  {
   "cell_type": "markdown",
   "metadata": {},
   "source": [
    "And finaly we will try out wiht a 10 fold cross validation"
   ]
  },
  {
   "cell_type": "code",
   "execution_count": 49,
   "metadata": {},
   "outputs": [
    {
     "name": "stdout",
     "output_type": "stream",
     "text": [
      "\n",
      "Cross-Validation Results\n",
      "Cross-validation scores: [0.79716312 0.80283688 0.79716312 0.78835227 0.78551136 0.75710227\n",
      " 0.82244318 0.78977273 0.80113636 0.80113636]\n",
      "Mean cross-validation score: 0.794261766602192\n"
     ]
    }
   ],
   "source": [
    "rf_CV = RandomForestClassifier()\n",
    "cv_scores = cross_val_score(rf_CV,X,y,cv=10,scoring='accuracy')\n",
    "print(\"\\nCross-Validation Results\")\n",
    "print(f\"Cross-validation scores: {cv_scores}\")\n",
    "print(f\"Mean cross-validation score: {cv_scores.mean()}\")"
   ]
  },
  {
   "cell_type": "markdown",
   "metadata": {},
   "source": [
    "Now we will proceed with hyperparameter tuning using GridSearch and a 3 fold CV"
   ]
  },
  {
   "cell_type": "code",
   "execution_count": 50,
   "metadata": {},
   "outputs": [
    {
     "name": "stdout",
     "output_type": "stream",
     "text": [
      "Fitting 3 folds for each of 1 candidates, totalling 3 fits\n",
      "Best parameters found:  {'bootstrap': True, 'max_depth': 10, 'max_features': 'sqrt', 'min_samples_leaf': 1, 'min_samples_split': 5, 'n_estimators': 100}\n",
      "Best Model Performance on Test Data\n",
      "0.8059630856601988\n",
      "[[1411  128]\n",
      " [ 282  292]]\n",
      "              precision    recall  f1-score   support\n",
      "\n",
      "           0       0.83      0.92      0.87      1539\n",
      "           1       0.70      0.51      0.59       574\n",
      "\n",
      "    accuracy                           0.81      2113\n",
      "   macro avg       0.76      0.71      0.73      2113\n",
      "weighted avg       0.80      0.81      0.80      2113\n",
      "\n"
     ]
    }
   ],
   "source": [
    "param_grid = {\n",
    "    'n_estimators': [100],  # Fewer estimators\n",
    "    'max_depth': [10],  # Fewer depths\n",
    "    'min_samples_split':  [5],  # Fewer options for split\n",
    "    'min_samples_leaf': [1],   # Fewer leaf options\n",
    "    'max_features': ['sqrt'],  # Reduce to fewer choices\n",
    "    'bootstrap': [True]  # Use one option for bootstrap\n",
    "}\n",
    "\n",
    "grid_search = GridSearchCV(estimator=RandomForestClassifier(random_state=42), param_grid=param_grid,  cv=3, n_jobs=-1, verbose=2, scoring='accuracy', error_score='raise')\n",
    "\n",
    "grid_search.fit(X_train, y_train)\n",
    "\n",
    "# Print the best parameters found\n",
    "print(\"Best parameters found: \", grid_search.best_params_)\n",
    "\n",
    "# Evaluate the best model on the test data\n",
    "rf_best = grid_search.best_estimator_\n",
    "y_pred_best = rf_best.predict(X_test)\n",
    "print(\"Best Model Performance on Test Data\")\n",
    "print(accuracy_score(y_test, y_pred_best))\n",
    "print(confusion_matrix(y_test, y_pred_best))\n",
    "print(classification_report(y_test, y_pred_best))"
   ]
  },
  {
   "cell_type": "markdown",
   "metadata": {},
   "source": [
    "Now lets compare all the random forest models"
   ]
  },
  {
   "cell_type": "code",
   "execution_count": 51,
   "metadata": {},
   "outputs": [
    {
     "name": "stdout",
     "output_type": "stream",
     "text": [
      "\n",
      "Model Comparison Results\n",
      "                     Model  Accuracy  Precision    Recall  F1 Score  \\\n",
      "0             Manual Split  0.793658   0.747471  0.691214  0.708726   \n",
      "1             Random Split  0.790819   0.744555  0.683803  0.701686   \n",
      "2  Stratified Random Split  0.782773   0.721746  0.683672  0.697048   \n",
      "3              Tuned Model  0.805963   0.764335  0.712770  0.730334   \n",
      "\n",
      "            Confusion Matrix  \n",
      "0  [[1409, 130], [306, 268]]  \n",
      "1  [[1413, 126], [316, 258]]  \n",
      "2  [[1389, 163], [296, 265]]  \n",
      "3  [[1411, 128], [282, 292]]  \n"
     ]
    }
   ],
   "source": [
    "def evaluate_model(y_true, y_pred, model_name):\n",
    "    accuracy = accuracy_score(y_true, y_pred)\n",
    "    confusion = confusion_matrix(y_true, y_pred)\n",
    "    report = classification_report(y_true, y_pred, output_dict=True)\n",
    "    return {\n",
    "        'Model': model_name,\n",
    "        'Accuracy': accuracy,\n",
    "        'Precision': report['macro avg']['precision'],\n",
    "        'Recall': report['macro avg']['recall'],\n",
    "        'F1 Score': report['macro avg']['f1-score'],\n",
    "        'Confusion Matrix': confusion\n",
    "    }\n",
    "\n",
    "# Evaluate all models\n",
    "manual_split_results = evaluate_model(y_test, y_pred_rf_split, 'Manual Split')\n",
    "random_split_results = evaluate_model(y_test_RS, y_pred_rf_Rsplit, 'Random Split')\n",
    "stratified_split_results = evaluate_model(y_test_RSS, y_pred_rf_RsplitS, 'Stratified Random Split')\n",
    "tuned_model_results = evaluate_model(y_test, y_pred_best, 'Tuned Model')\n",
    "\n",
    "# Collect all results\n",
    "comparison_results = [manual_split_results, random_split_results, stratified_split_results, tuned_model_results]\n",
    "\n",
    "# Create a DataFrame for comparison\n",
    "comparison_df = pd.DataFrame(comparison_results)\n",
    "print(\"\\nModel Comparison Results\")\n",
    "print(comparison_df)"
   ]
  },
  {
   "cell_type": "markdown",
   "metadata": {},
   "source": [
    "And lets visulise oru results with a bar plot"
   ]
  },
  {
   "cell_type": "code",
   "execution_count": 52,
   "metadata": {},
   "outputs": [
    {
     "data": {
      "image/png": "[encoded data removed]",
      "text/plain": [
       "<Figure size 1000x600 with 1 Axes>"
      ]
     },
     "metadata": {},
     "output_type": "display_data"
    }
   ],
   "source": [
    "comparison_df.set_index('Model', inplace=True)\n",
    "metrics = ['Accuracy', 'Precision', 'Recall', 'F1 Score']\n",
    "comparison_df[metrics].plot(kind='bar', figsize=(10, 6))\n",
    "plt.title('Model Comparison')\n",
    "plt.ylabel('Score')\n",
    "plt.xlabel('Model')\n",
    "plt.xticks(rotation=45)\n",
    "plt.tight_layout()\n",
    "plt.show()"
   ]
  },
  {
   "cell_type": "markdown",
   "metadata": {},
   "source": [
    "We can conclude that the best performing model is the tuned model, but the classification of class B or 1 has low recall and f1 scores therefore it would be best to to some overfitting so that those scores are improved"
   ]
  },
  {
   "cell_type": "code",
   "execution_count": 53,
   "metadata": {},
   "outputs": [],
   "source": [
    "X_train, X_test, y_train, y_test = train_test_split(X, y, test_size=0.3, shuffle=True, random_state=42)"
   ]
  },
  {
   "cell_type": "code",
   "execution_count": 54,
   "metadata": {},
   "outputs": [
    {
     "name": "stdout",
     "output_type": "stream",
     "text": [
      "\n",
      "Train Set Class Distribution:\n",
      "Churn\n",
      "0        73.732252\n",
      "1        26.267748\n",
      "Name: proportion, dtype: float64\n",
      "\n",
      "Test Set Class Distribution:\n",
      "Churn\n",
      "0        72.834832\n",
      "1        27.165168\n",
      "Name: proportion, dtype: float64\n"
     ]
    }
   ],
   "source": [
    "y_train_df = pd.DataFrame(y_train, columns=[\"Churn\"])\n",
    "y_test_df = pd.DataFrame(y_test, columns=[\"Churn\"])\n",
    "\n",
    "print('\\nTrain Set Class Distribution:')\n",
    "print(y_train_df.value_counts(normalize=True) * 100)\n",
    "print('\\nTest Set Class Distribution:')\n",
    "print(y_test_df.value_counts(normalize=True) * 100)"
   ]
  },
  {
   "cell_type": "code",
   "execution_count": 55,
   "metadata": {},
   "outputs": [
    {
     "name": "stderr",
     "output_type": "stream",
     "text": [
      "C:\\Users\\david\\AppData\\Roaming\\Python\\Python312\\site-packages\\sklearn\\base.py:474: FutureWarning: `BaseEstimator._validate_data` is deprecated in 1.6 and will be removed in 1.7. Use `sklearn.utils.validation.validate_data` instead. This function becomes public and is part of the scikit-learn developer API.\n",
      "  warnings.warn(\n"
     ]
    }
   ],
   "source": [
    "from imblearn.over_sampling import SMOTE\n",
    "\n",
    "smote = SMOTE(random_state=42)\n",
    "X_resampled, y_resampled = smote.fit_resample(X, y)"
   ]
  },
  {
   "cell_type": "code",
   "execution_count": 56,
   "metadata": {},
   "outputs": [],
   "source": [
    "X_train, X_test, y_train, y_test = train_test_split(X_resampled, y_resampled, \n",
    "                                                    test_size=0.3, \n",
    "                                                    random_state=42, \n",
    "                                                    stratify=y_resampled)"
   ]
  },
  {
   "cell_type": "code",
   "execution_count": 57,
   "metadata": {},
   "outputs": [
    {
     "name": "stdout",
     "output_type": "stream",
     "text": [
      "Fitting 3 folds for each of 1 candidates, totalling 3 fits\n",
      "Best parameters found:  {'bootstrap': True, 'max_depth': 10, 'max_features': 'sqrt', 'min_samples_leaf': 1, 'min_samples_split': 5, 'n_estimators': 100}\n",
      "Best Model Performance on Test Data\n",
      "0.8122383252818035\n",
      "[[1188  365]\n",
      " [ 218 1334]]\n",
      "              precision    recall  f1-score   support\n",
      "\n",
      "           0       0.84      0.76      0.80      1553\n",
      "           1       0.79      0.86      0.82      1552\n",
      "\n",
      "    accuracy                           0.81      3105\n",
      "   macro avg       0.82      0.81      0.81      3105\n",
      "weighted avg       0.82      0.81      0.81      3105\n",
      "\n"
     ]
    }
   ],
   "source": [
    "param_grid = {\n",
    "    'n_estimators': [100],  # Fewer estimators\n",
    "    'max_depth': [10],  # Fewer depths\n",
    "    'min_samples_split':  [5],  # Fewer options for split\n",
    "    'min_samples_leaf': [1],   # Fewer leaf options\n",
    "    'max_features': ['sqrt'],  # Reduce to fewer choices\n",
    "    'bootstrap': [True]  # Use one option for bootstrap\n",
    "}\n",
    "\n",
    "\n",
    "grid_search = GridSearchCV(estimator=RandomForestClassifier(random_state=42), param_grid=param_grid,  cv=3, n_jobs=-1, verbose=2, scoring='accuracy', error_score='raise')\n",
    "\n",
    "grid_search.fit(X_train, y_train)\n",
    "\n",
    "# Print the best parameters found\n",
    "print(\"Best parameters found: \", grid_search.best_params_)\n",
    "\n",
    "# Evaluate the best model on the test data\n",
    "rf_best_OS = grid_search.best_estimator_\n",
    "y_pred_best_OS = rf_best_OS.predict(X_test)\n",
    "print(\"Best Model Performance on Test Data\")\n",
    "print(accuracy_score(y_test, y_pred_best_OS))\n",
    "print(confusion_matrix(y_test, y_pred_best_OS))\n",
    "print(classification_report(y_test, y_pred_best_OS))"
   ]
  },
  {
   "cell_type": "markdown",
   "metadata": {},
   "source": [
    "We have succesfully raised the precision, recall and f1-score for class B or 1 in the Random Forest model, and now we can save it for furhter comparison"
   ]
  },
  {
   "cell_type": "code",
   "execution_count": 58,
   "metadata": {},
   "outputs": [
    {
     "data": {
      "text/plain": [
       "['best_rf_model_AS.pkl']"
      ]
     },
     "execution_count": 58,
     "metadata": {},
     "output_type": "execute_result"
    }
   ],
   "source": [
    "import joblib\n",
    "joblib.dump(rf_best_OS, 'best_rf_model_AS.pkl')"
   ]
  }
 ],
 "metadata": {
  "kernelspec": {
   "display_name": "base",
   "language": "python",
   "name": "python3"
  },
  "language_info": {
   "codemirror_mode": {
    "name": "ipython",
    "version": 3
   },
   "file_extension": ".py",
   "mimetype": "text/x-python",
   "name": "python",
   "nbconvert_exporter": "python",
   "pygments_lexer": "ipython3",
   "version": "3.12.7"
  }
 },
 "nbformat": 4,
 "nbformat_minor": 2
}
