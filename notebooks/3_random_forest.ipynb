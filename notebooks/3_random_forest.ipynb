{
 "cells": [
  {
   "cell_type": "code",
   "execution_count": 10,
   "metadata": {},
   "outputs": [],
   "source": [
    "import pandas as pd\n",
    "import numpy as np\n",
    "import matplotlib.pyplot as plt\n",
    "import seaborn as sns\n",
    "from sklearn.model_selection import train_test_split,cross_val_score ,GridSearchCV\n",
    "from sklearn.preprocessing import StandardScaler\n",
    "\n",
    "from sklearn.ensemble import RandomForestClassifier\n",
    "from sklearn.metrics import accuracy_score, confusion_matrix, classification_report"
   ]
  },
  {
   "cell_type": "code",
   "execution_count": 11,
   "metadata": {},
   "outputs": [
    {
     "name": "stdout",
     "output_type": "stream",
     "text": [
      "<class 'pandas.core.frame.DataFrame'>\n",
      "RangeIndex: 7043 entries, 0 to 7042\n",
      "Data columns (total 26 columns):\n",
      " #   Column                                 Non-Null Count  Dtype  \n",
      "---  ------                                 --------------  -----  \n",
      " 0   gender                                 7043 non-null   int64  \n",
      " 1   SeniorCitizen                          7043 non-null   int64  \n",
      " 2   Partner                                7043 non-null   int64  \n",
      " 3   Dependents                             7043 non-null   int64  \n",
      " 4   tenure                                 7043 non-null   float64\n",
      " 5   PhoneService                           7043 non-null   int64  \n",
      " 6   OnlineSecurity                         7043 non-null   int64  \n",
      " 7   DeviceProtection                       7043 non-null   int64  \n",
      " 8   TechSupport                            7043 non-null   int64  \n",
      " 9   StreamingTV                            7043 non-null   int64  \n",
      " 10  StreamingMovies                        7043 non-null   int64  \n",
      " 11  PaperlessBilling                       7043 non-null   int64  \n",
      " 12  MonthlyCharges                         7043 non-null   float64\n",
      " 13  TotalCharges                           7043 non-null   float64\n",
      " 14  Churn                                  7043 non-null   int64  \n",
      " 15  MultipleLines_No phone service         7043 non-null   bool   \n",
      " 16  MultipleLines_Yes                      7043 non-null   bool   \n",
      " 17  InternetService_Fiber optic            7043 non-null   bool   \n",
      " 18  InternetService_No                     7043 non-null   bool   \n",
      " 19  OnlineBackup_No internet service       7043 non-null   bool   \n",
      " 20  OnlineBackup_Yes                       7043 non-null   bool   \n",
      " 21  Contract_One year                      7043 non-null   bool   \n",
      " 22  Contract_Two year                      7043 non-null   bool   \n",
      " 23  PaymentMethod_Credit card (automatic)  7043 non-null   bool   \n",
      " 24  PaymentMethod_Electronic check         7043 non-null   bool   \n",
      " 25  PaymentMethod_Mailed check             7043 non-null   bool   \n",
      "dtypes: bool(11), float64(3), int64(12)\n",
      "memory usage: 901.1 KB\n",
      "None\n"
     ]
    }
   ],
   "source": [
    "df = pd.read_csv('../data/processed_data.csv')\n",
    "print(df.info())\n"
   ]
  },
  {
   "cell_type": "markdown",
   "metadata": {},
   "source": [
    "Firs we will do a manual split on the dtaset into a 70 to 30 ratio and see the performing rates of random forest"
   ]
  },
  {
   "cell_type": "code",
   "execution_count": 12,
   "metadata": {},
   "outputs": [],
   "source": [
    "X = df.drop('Churn',axis=1)\n",
    "y = df['Churn']\n",
    "\n",
    "#We will be spliting the data into training and test subdatasets\n",
    "X_train,X_test,y_train,y_test = train_test_split(X, y, test_size=0.3, random_state=42)"
   ]
  },
  {
   "cell_type": "code",
   "execution_count": 13,
   "metadata": {},
   "outputs": [
    {
     "name": "stdout",
     "output_type": "stream",
     "text": [
      "0.791292001893043\n",
      "[[1399  140]\n",
      " [ 301  273]]\n",
      "              precision    recall  f1-score   support\n",
      "\n",
      "           0       0.82      0.91      0.86      1539\n",
      "           1       0.66      0.48      0.55       574\n",
      "\n",
      "    accuracy                           0.79      2113\n",
      "   macro avg       0.74      0.69      0.71      2113\n",
      "weighted avg       0.78      0.79      0.78      2113\n",
      "\n"
     ]
    }
   ],
   "source": [
    "rf_split = RandomForestClassifier()\n",
    "rf_split.fit(X_train,y_train)\n",
    "\n",
    "#Rewieving Scores from Random tree\n",
    "y_pred_rf_split = rf_split.predict(X_test)\n",
    "print(accuracy_score(y_test,y_pred_rf_split))\n",
    "print(confusion_matrix(y_test,y_pred_rf_split))\n",
    "print(classification_report(y_test,y_pred_rf_split))"
   ]
  },
  {
   "cell_type": "markdown",
   "metadata": {},
   "source": [
    "Now we will use random tree with a randomly splitted data still using a 70:30 ratio"
   ]
  },
  {
   "cell_type": "code",
   "execution_count": 14,
   "metadata": {},
   "outputs": [],
   "source": [
    "X = df.drop('Churn',axis=1)\n",
    "y = df['Churn']\n",
    "\n",
    "#We will be spliting the data into training and test subdatasets\n",
    "X_train,X_test,y_train,y_test = train_test_split(X, y, test_size=0.3, random_state=42, shuffle=True)"
   ]
  },
  {
   "cell_type": "code",
   "execution_count": 15,
   "metadata": {},
   "outputs": [
    {
     "name": "stdout",
     "output_type": "stream",
     "text": [
      "0.7960246095598675\n",
      "[[1408  131]\n",
      " [ 300  274]]\n",
      "              precision    recall  f1-score   support\n",
      "\n",
      "           0       0.82      0.91      0.87      1539\n",
      "           1       0.68      0.48      0.56       574\n",
      "\n",
      "    accuracy                           0.80      2113\n",
      "   macro avg       0.75      0.70      0.71      2113\n",
      "weighted avg       0.78      0.80      0.78      2113\n",
      "\n"
     ]
    }
   ],
   "source": [
    "rf_Rsplit = RandomForestClassifier()\n",
    "rf_Rsplit.fit(X_train,y_train)\n",
    "\n",
    "#Rewieving Scores from Random tree\n",
    "y_pred_rf_Rsplit = rf_Rsplit.predict(X_test)\n",
    "print(accuracy_score(y_test,y_pred_rf_Rsplit))\n",
    "print(confusion_matrix(y_test,y_pred_rf_Rsplit))\n",
    "print(classification_report(y_test,y_pred_rf_Rsplit))"
   ]
  },
  {
   "cell_type": "markdown",
   "metadata": {},
   "source": [
    "And here we will use random split but with stratification"
   ]
  },
  {
   "cell_type": "code",
   "execution_count": 16,
   "metadata": {},
   "outputs": [],
   "source": [
    "X = df.drop('Churn',axis=1)\n",
    "y = df['Churn']\n",
    "\n",
    "X_train,X_test,y_train,y_test = train_test_split(X, y, test_size=0.3, random_state=42, shuffle=True, stratify=y)"
   ]
  },
  {
   "cell_type": "code",
   "execution_count": 17,
   "metadata": {},
   "outputs": [
    {
     "name": "stdout",
     "output_type": "stream",
     "text": [
      "0.7875059157595835\n",
      "[[1390  162]\n",
      " [ 287  274]]\n",
      "              precision    recall  f1-score   support\n",
      "\n",
      "           0       0.83      0.90      0.86      1552\n",
      "           1       0.63      0.49      0.55       561\n",
      "\n",
      "    accuracy                           0.79      2113\n",
      "   macro avg       0.73      0.69      0.71      2113\n",
      "weighted avg       0.78      0.79      0.78      2113\n",
      "\n"
     ]
    }
   ],
   "source": [
    "rf_RsplitS = RandomForestClassifier()\n",
    "rf_RsplitS.fit(X_train,y_train)\n",
    "\n",
    "#Rewieving Scores from Random tree\n",
    "y_pred_rf_RsplitS = rf_RsplitS.predict(X_test)\n",
    "print(accuracy_score(y_test,y_pred_rf_RsplitS))\n",
    "print(confusion_matrix(y_test,y_pred_rf_RsplitS))\n",
    "print(classification_report(y_test,y_pred_rf_RsplitS))"
   ]
  },
  {
   "cell_type": "markdown",
   "metadata": {},
   "source": [
    "And finaly we will try out wiht a 10 fold cross validation"
   ]
  },
  {
   "cell_type": "code",
   "execution_count": 19,
   "metadata": {},
   "outputs": [
    {
     "name": "stdout",
     "output_type": "stream",
     "text": [
      "\n",
      "Cross-Validation Results\n",
      "Cross-validation scores: [0.79574468 0.8070922  0.79007092 0.78409091 0.77982955 0.75284091\n",
      " 0.80397727 0.79971591 0.80255682 0.80397727]\n",
      "Mean cross-validation score: 0.7919896437782076\n"
     ]
    }
   ],
   "source": [
    "rf_CV = RandomForestClassifier()\n",
    "cv_scores = cross_val_score(rf_CV,X,y,cv=10,scoring='accuracy')\n",
    "print(\"\\nCross-Validation Results\")\n",
    "print(f\"Cross-validation scores: {cv_scores}\")\n",
    "print(f\"Mean cross-validation score: {cv_scores.mean()}\")"
   ]
  },
  {
   "cell_type": "markdown",
   "metadata": {},
   "source": [
    "Now we will proceed with hyperparameter tuning using GridSearch and a 3 fold CV"
   ]
  },
  {
   "cell_type": "code",
   "execution_count": 28,
   "metadata": {},
   "outputs": [
    {
     "name": "stdout",
     "output_type": "stream",
     "text": [
      "Fitting 3 folds for each of 1 candidates, totalling 3 fits\n",
      "Best parameters found:  {'bootstrap': True, 'max_depth': 10, 'max_features': 'sqrt', 'min_samples_leaf': 1, 'min_samples_split': 5, 'n_estimators': 100}\n",
      "Best Model Performance on Test Data\n",
      "0.7950780880265026\n",
      "[[1400  152]\n",
      " [ 281  280]]\n",
      "              precision    recall  f1-score   support\n",
      "\n",
      "           0       0.83      0.90      0.87      1552\n",
      "           1       0.65      0.50      0.56       561\n",
      "\n",
      "    accuracy                           0.80      2113\n",
      "   macro avg       0.74      0.70      0.72      2113\n",
      "weighted avg       0.78      0.80      0.79      2113\n",
      "\n"
     ]
    }
   ],
   "source": [
    "from scipy.stats import randint\n",
    "\n",
    "\n",
    "param_grid = {\n",
    "    'n_estimators': [100],  # Fewer estimators\n",
    "    'max_depth': [10],  # Fewer depths\n",
    "    'min_samples_split':  [5],  # Fewer options for split\n",
    "    'min_samples_leaf': [1],   # Fewer leaf options\n",
    "    'max_features': ['sqrt'],  # Reduce to fewer choices\n",
    "    'bootstrap': [True]  # Use one option for bootstrap\n",
    "}\n",
    "\n",
    "# RandomizedSearchCV with n_iter=50 to sample 50 combinations\n",
    "random_search = GridSearchCV(estimator=RandomForestClassifier(random_state=42), param_grid=param_grid,  cv=3, n_jobs=-1, verbose=2, scoring='accuracy', error_score='raise')\n",
    "\n",
    "random_search.fit(X_train, y_train)\n",
    "\n",
    "# Print the best parameters found\n",
    "print(\"Best parameters found: \", random_search.best_params_)\n",
    "\n",
    "# Evaluate the best model on the test data\n",
    "y_pred = random_search.best_estimator_.predict(X_test)\n",
    "print(\"Best Model Performance on Test Data\")\n",
    "print(accuracy_score(y_test, y_pred))\n",
    "print(confusion_matrix(y_test, y_pred))\n",
    "print(classification_report(y_test, y_pred))"
   ]
  }
 ],
 "metadata": {
  "kernelspec": {
   "display_name": "base",
   "language": "python",
   "name": "python3"
  },
  "language_info": {
   "codemirror_mode": {
    "name": "ipython",
    "version": 3
   },
   "file_extension": ".py",
   "mimetype": "text/x-python",
   "name": "python",
   "nbconvert_exporter": "python",
   "pygments_lexer": "ipython3",
   "version": "3.12.7"
  }
 },
 "nbformat": 4,
 "nbformat_minor": 2
}
